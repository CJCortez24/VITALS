{
 "cells": [
  {
   "cell_type": "markdown",
   "metadata": {},
   "source": [
    "# Equivalent Water Thickness/Canopy Water Content from Imaging Spectroscopy Data\n",
    "\n",
    "#TODO - Choose Study Site(s), Sedgwick Reserve is just an example.\n",
    "#TODO - Should we refer to this as EWT or CWC?\n",
    "\n",
    "**Summary**  \n",
    "\n",
    "In this notebook we will explore how Canopy Water Content (CWC) or Equivalent Water Thickness (EWT) can be calculated from the Earth Surface Mineral Dust Source Investigation (EMIT) L2A Reflectance Product, then we will apply this knowledge to calculate CWC over the [Sedgewick Reserve](https://nrs.ucsb.edu/sedgwick-reserve/) located in the Santa Ynez Valley approximately 35 miles north of Santa Barbara, CA. \n",
    "\n",
    "**Background**\n",
    "\n",
    "Surface reflectance is the fraction of incoming solar radiation reflected Earth's surface. Materials reflect proportions of radiation differently based upon their chemical composition and physical properties, giving materials their own unique spectral signature or fingerprint. This means that reflectance information can be used to determine the composition information about a target, including water content. For the purposes of this example we will use CWC and EWT interchangeably as the predicted thickness or absorption path length in centimeters (cm) of water that would be required to yield an observed spectra, or the water content of the canopy (g/cm^2).  These properties are an indicator of vegetation type and health as well as wildfire risk. The methods used here to calculate CWC are based on the [ISOFIT python package](https://github.com/isofit/isofit/tree/main). The Beer-Lambert physical model used to calculate CWC is described in [Green et al. (2006)](https://doi.org/10.1029/2005WR004509) and [Bohn et al. (2020)](https://doi.org/10.1016/j.rse.2020.111708). Of note, this model does not account for multiple scattering effects within the canopy and may result in oversestimation of CWC (Bohn et al., 2020).\n",
    "\n",
    "The [Sedgewick Reserve](https://nrs.ucsb.edu/sedgwick-reserve/) contains a diverse assortment of vegetation including coast live oak forest, blue oak woodland, valley oak savannah, buckbrush chaparral, coastal sage scrub, grassland, willow riparian forest, serpentine outcroppings, and agricultural lands.\n",
    "\n",
    "More about the [EMIT mission] and [EMIT products].\n",
    "\n",
    "**References**\n",
    "\n",
    "- Shrestha, Rupesh. 2023. Equivalent water thickness/canopy water content from hyperspectral data. Jupyter Notebook. Oak Ridge National Laboratory Distributed Active Archive Center. https://github.com/rupesh2/ewt_cwc/tree/main\n",
    "- Bohn, N., L. Guanter, T. Kuester, R. Preusker, and K. Segl. 2020. Coupled retrieval of the three phases of water from spaceborne imaging spectroscopy measurements. Remote Sensing of Environment 242:111708. https://doi.org/10.1016/j.rse.2020.111708\n",
    "- Green, R.O., T.H. Painter, D.A. Roberts, and J. Dozier. 2006. Measuring the expressed abundance of the three phases of water with an imaging spectrometer over melting snow. Water Resources Research 42:W10402. https://doi.org/10.1029/2005WR004509\n",
    "- Thompson, D.R., V. Natraj, R.O. Green, M.C. Helmlinger, B.-C. Gao, and M.L. Eastwood. 2018. Optimal estimation for imaging spectrometer atmospheric correction. Remote Sensing of Environment 216:355–373. https://doi.org/10.1016/j.rse.2018.07.003\n",
    "\n",
    "**Requirements** \n",
    " - None for Workshop!\n",
    " - To set up Python Environment locally - See **setup_instructions.md** in the `/setup/` folder\n",
    "\n",
    "**Learning Objectives**  \n",
    "- Calculate the EWT of a single pixel\n",
    "- Calculate the EWT of a ROI\n",
    "\n",
    "**Tutorial Outline**  \n",
    "\n",
    "1.1 Setup  \n",
    "1.2 Orthorectification\n",
    "1.3 Extracting A Reflectance Pixel\n",
    "1.4 Beer-Lambert Law  \n",
    "1.5 Inversion  \n",
    "1.5 EWT/CWC  \n",
    "1.6 Clipping to a Polygon  \n",
    "1.7 Applying Inversion in Parallel Across an ROI"
   ]
  },
  {
   "cell_type": "code",
   "execution_count": null,
   "metadata": {
    "tags": []
   },
   "outputs": [],
   "source": [
    "# Install ray on 2i2c\n",
    "#!pip install \"ray[default]\"\n",
    "!pip install openpyxl"
   ]
  },
  {
   "cell_type": "markdown",
   "metadata": {},
   "source": [
    "# Import Python Libraries"
   ]
  },
  {
   "cell_type": "code",
   "execution_count": null,
   "metadata": {
    "tags": []
   },
   "outputs": [],
   "source": [
    "# Import Packages\n",
    "import os\n",
    "import glob\n",
    "import earthaccess\n",
    "import math\n",
    "import numpy as np\n",
    "import xarray as xr\n",
    "from osgeo import gdal\n",
    "import rasterio as rio\n",
    "import rioxarray as rxr\n",
    "from matplotlib import pyplot as plt\n",
    "import hvplot.xarray\n",
    "import hvplot.pandas\n",
    "import holoviews as hv\n",
    "import pandas as pd\n",
    "import geopandas as gp\n",
    "import sys\n",
    "from modules.emit_tools import emit_xarray, ortho_xr\n",
    "from modules.ewt_calc import calc_ewt\n",
    "from scipy.optimize import least_squares"
   ]
  },
  {
   "cell_type": "markdown",
   "metadata": {},
   "source": [
    "## Open an EMIT File\n",
    "\n",
    "#TODO - Some sort of text\n",
    "\n",
    "Set a filepath for a downloaded EMIT file, and open using the `emit_xarray` function.\n"
   ]
  },
  {
   "cell_type": "code",
   "execution_count": null,
   "metadata": {
    "tags": []
   },
   "outputs": [],
   "source": [
    "fp = '../data/EMIT_L2A_RFL_001_20230405T190311_2309513_002.nc'"
   ]
  },
  {
   "cell_type": "code",
   "execution_count": null,
   "metadata": {
    "tags": []
   },
   "outputs": [],
   "source": [
    "ds = emit_xarray(fp,ortho=True)"
   ]
  },
  {
   "cell_type": "markdown",
   "metadata": {},
   "source": [
    "We can retrieve the spectra from a sample point by providing a latitude and longitude along with a method the `sel` function. This will select the pixel closest to the provided coordinates."
   ]
  },
  {
   "cell_type": "code",
   "execution_count": null,
   "metadata": {
    "tags": []
   },
   "outputs": [],
   "source": [
    "point = ds.sel(latitude=34.568,longitude=-120.043, method='nearest')\n",
    "point"
   ]
  },
  {
   "cell_type": "markdown",
   "metadata": {},
   "source": [
    "We can plot this information to see the spectra."
   ]
  },
  {
   "cell_type": "code",
   "execution_count": null,
   "metadata": {
    "tags": []
   },
   "outputs": [],
   "source": [
    "point.hvplot.line(x='wavelengths',y='reflectance',color='black').opts(title=f\"Latitude: {point.latitude.values:.3f} Longitude: {point.longitude.values:.3f}\")"
   ]
  },
  {
   "cell_type": "markdown",
   "metadata": {},
   "source": [
    "## Calculating CWC\n",
    "\n",
    "Estimation of the CWC/EWT is done using by solving a nonlinear least squares function to minimize the residual of a Beer-Lambert model. \n",
    "First, we want to define a function that returns the vector of residuals between measured and modeled surface reflectance"
   ]
  },
  {
   "cell_type": "code",
   "execution_count": null,
   "metadata": {
    "tags": []
   },
   "outputs": [],
   "source": [
    "# https://github.com/isofit/isofit/blob/main/isofit/inversion/inverse_simple.py\n",
    "def beer_lambert_model(x, y, wl, alpha_lw):\n",
    "    \"\"\"Function, which computes the vector of residuals between measured and modeled surface reflectance optimizing\n",
    "    for path length of surface liquid water based on the Beer-Lambert attenuation law.\n",
    "\n",
    "    Args:\n",
    "        x:        state vector (liquid water path length, intercept, slope)\n",
    "        y:        measurement (surface reflectance spectrum)\n",
    "        wl:       instrument wavelengths\n",
    "        alpha_lw: wavelength dependent absorption coefficients of liquid water\n",
    "\n",
    "    Returns:\n",
    "        resid: residual between modeled and measured surface reflectance\n",
    "    \"\"\"\n",
    "\n",
    "    attenuation = np.exp(-x[0] * 1e7 * alpha_lw)\n",
    "    rho = (x[1] + x[2] * wl) * attenuation\n",
    "    resid = rho - y\n",
    "\n",
    "    return resid"
   ]
  },
  {
   "cell_type": "markdown",
   "metadata": {},
   "source": [
    "Next we will define a function to retrieve the refractive indices of different water phases provided by the `k_liquid_water_ice.csv` in the `data` folder. We can also preview this data to get a better understanding of the information we are using."
   ]
  },
  {
   "cell_type": "code",
   "execution_count": null,
   "metadata": {
    "tags": []
   },
   "outputs": [],
   "source": [
    "wp_fp = '../data/k_liquid_water_ice.csv'\n",
    "k_wi = pd.read_csv(wp_fp)\n",
    "k_wi.head()"
   ]
  },
  {
   "cell_type": "markdown",
   "metadata": {},
   "source": [
    "#TODO - Figure out how to do this with hvplot"
   ]
  },
  {
   "cell_type": "code",
   "execution_count": null,
   "metadata": {
    "tags": []
   },
   "outputs": [],
   "source": [
    "fig, axs = plt.subplots(2,4, figsize=(15, 6),  sharex=True, sharey=True, constrained_layout=True)\n",
    "axs = axs.ravel()\n",
    "col_n = 0\n",
    "for i in range(0, 7):\n",
    "    x = k_wi.iloc[:, col_n+i]\n",
    "    y = k_wi.iloc[:, col_n+i+1]\n",
    "    axs[i].scatter(x, y)\n",
    "    axs[i].set_title(y.name)\n",
    "    col_n+=1\n",
    "fig.supylabel('imaginary parts of refractive index')\n",
    "fig.supxlabel('wavelength')\n",
    "plt.show()"
   ]
  },
  {
   "cell_type": "code",
   "execution_count": null,
   "metadata": {
    "tags": []
   },
   "outputs": [],
   "source": [
    "# https://github.com/isofit/isofit/blob/main/isofit/core/common.py\n",
    "def get_refractive_index(k_wi, a, b, col_wvl, col_k):\n",
    "    \"\"\"Convert refractive index table entries to numpy array.\n",
    "\n",
    "    Args:\n",
    "        k_wi:    variable\n",
    "        a:       start line\n",
    "        b:       end line\n",
    "        col_wvl: wavelength column in pandas table\n",
    "        col_k:   k column in pandas table\n",
    "\n",
    "    Returns:\n",
    "        wvl_arr: array of wavelengths\n",
    "        k_arr:   array of imaginary parts of refractive index\n",
    "    \"\"\"\n",
    "\n",
    "    wvl_ = []\n",
    "    k_ = []\n",
    "\n",
    "    for ii in range(a, b):\n",
    "        wvl = k_wi.at[ii, col_wvl]\n",
    "        k = k_wi.at[ii, col_k]\n",
    "        wvl_.append(wvl)\n",
    "        k_.append(k)\n",
    "\n",
    "    wvl_arr = np.asarray(wvl_)\n",
    "    k_arr = np.asarray(k_)\n",
    "\n",
    "    return wvl_arr, k_arr"
   ]
  },
  {
   "cell_type": "markdown",
   "metadata": {},
   "source": [
    "#TODO - Improve this description.\n",
    "\n",
    "Lastly, we will define a function to fit a state vector..."
   ]
  },
  {
   "cell_type": "code",
   "execution_count": null,
   "metadata": {
    "tags": []
   },
   "outputs": [],
   "source": [
    "# https://github.com/isofit/isofit/blob/main/isofit/inversion/inverse_simple.py\n",
    "def invert_liquid_water(\n",
    "    rfl_meas: np.array,\n",
    "    wl: np.array,\n",
    "    l_shoulder: float = 850,\n",
    "    r_shoulder: float = 1100,\n",
    "    lw_init: tuple = (0.02, 0.3, 0.0002),\n",
    "    lw_bounds: tuple = ([0, 0.5], [0, 1.0], [-0.0004, 0.0004]),\n",
    "):\n",
    "    \"\"\"Given a reflectance estimate, fit a state vector including liquid water path length\n",
    "    based on a simple Beer-Lambert surface model.\n",
    "\n",
    "    Args:\n",
    "        rfl_meas:   surface reflectance spectrum\n",
    "        wl:         instrument wavelengths, must be same size as rfl_meas\n",
    "        l_shoulder: wavelength of left absorption feature shoulder\n",
    "        r_shoulder: wavelength of right absorption feature shoulder\n",
    "        lw_init:    initial guess for liquid water path length, intercept, and slope\n",
    "        lw_bounds:  lower and upper bounds for liquid water path length, intercept, and slope\n",
    "\n",
    "    Returns:\n",
    "        solution: estimated liquid water path length, intercept, and slope based on a given surface reflectance\n",
    "    \"\"\"\n",
    "\n",
    "    # params needed for liquid water fitting\n",
    "    lw_feature_left = np.argmin(abs(l_shoulder - wl))\n",
    "    lw_feature_right = np.argmin(abs(r_shoulder - wl))\n",
    "    wl_sel = wl[lw_feature_left : lw_feature_right + 1]\n",
    "\n",
    "    # load imaginary part of liquid water refractive index and calculate wavelength dependent absorption coefficient\n",
    "    # __file__ should live at EMIT-Data-Resources/\n",
    "\n",
    "    data_dir = '../data/' # Hard Coded\n",
    "    path_k = os.path.join(data_dir, 'k_liquid_water_ice.csv')\n",
    "\n",
    "    k_wi = pd.read_csv(path_k)\n",
    "    wl_water, k_water = get_refractive_index(\n",
    "        k_wi=k_wi, a=0, b=982, col_wvl=\"wvl_6\", col_k=\"T = 20°C\"\n",
    "    )\n",
    "    kw = np.interp(x=wl_sel, xp=wl_water, fp=k_water)\n",
    "    abs_co_w = 4 * np.pi * kw / wl_sel\n",
    "\n",
    "    rfl_meas_sel = rfl_meas[lw_feature_left : lw_feature_right + 1]\n",
    "\n",
    "    x_opt = least_squares(\n",
    "        fun=beer_lambert_model,\n",
    "        x0=lw_init,\n",
    "        jac=\"2-point\",\n",
    "        method=\"trf\",\n",
    "        bounds=(\n",
    "            np.array([lw_bounds[ii][0] for ii in range(3)]),\n",
    "            np.array([lw_bounds[ii][1] for ii in range(3)]),\n",
    "        ),\n",
    "        max_nfev=15,\n",
    "        args=(rfl_meas_sel, wl_sel, abs_co_w),\n",
    "    )\n",
    "\n",
    "    solution = x_opt.x\n",
    "\n",
    "    return solution"
   ]
  },
  {
   "cell_type": "markdown",
   "metadata": {},
   "source": [
    "### CWC of a Single Pixel"
   ]
  },
  {
   "cell_type": "code",
   "execution_count": null,
   "metadata": {
    "tags": []
   },
   "outputs": [],
   "source": [
    "cwc = invert_liquid_water(point.reflectance.values,point.wavelengths.values)\n",
    "print(f\"CWC for ({point.longitude.values:.3f},{point.latitude.values:.3f}): {cwc[0]:.3f} g/cm^2)\")"
   ]
  },
  {
   "cell_type": "code",
   "execution_count": null,
   "metadata": {
    "tags": []
   },
   "outputs": [],
   "source": [
    "# Select Multiple Points "
   ]
  },
  {
   "cell_type": "markdown",
   "metadata": {},
   "source": [
    "## CWC Calculation of an ROI\n",
    "\n",
    "In the previous notebook, we subset our region of interest and exported the file. Since the CWC calculation is computationally intensive, it can take a while to process large scenes, so its more efficient to do this spatial subsetting up front. We can use a function included in the `ewt_calc.py` to calculate the canopy water content on a cropped image, and create a cloud-optimized GeoTIFF (COG) file containing the results.\n",
    "\n",
    "Set our input filepaths and output directory. "
   ]
  },
  {
   "cell_type": "code",
   "execution_count": null,
   "metadata": {},
   "outputs": [],
   "source": []
  },
  {
   "cell_type": "code",
   "execution_count": null,
   "metadata": {
    "tags": []
   },
   "outputs": [],
   "source": [
    "fp = '../data/EMIT_L2A_RFL_001_20231014T224006_2328715_002_sedgwick.nc'"
   ]
  },
  {
   "cell_type": "code",
   "execution_count": null,
   "metadata": {
    "tags": []
   },
   "outputs": [],
   "source": [
    "out_dir = '../data/'"
   ]
  },
  {
   "cell_type": "markdown",
   "metadata": {},
   "source": [
    "Use the `calc_ewt` function to calculate the CWC of the cropped image. This function will also create a COG file containing the CWC results. We can also specify the number of CPUs to use manually with a `n_cpu` argument, or leave it blank to use all but one of the available CPUs."
   ]
  },
  {
   "cell_type": "code",
   "execution_count": null,
   "metadata": {
    "tags": []
   },
   "outputs": [],
   "source": [
    "calc_ewt(fp, out_dir)"
   ]
  },
  {
   "cell_type": "markdown",
   "metadata": {},
   "source": [
    "Now we can open the COG created and visualize the results."
   ]
  },
  {
   "cell_type": "code",
   "execution_count": null,
   "metadata": {
    "tags": []
   },
   "outputs": [],
   "source": [
    "cwc_fp = '../data/EMIT_L2A_RFL_001_20230405T190311_2309513_002_sedgwick.nc'"
   ]
  },
  {
   "cell_type": "markdown",
   "metadata": {},
   "source": [
    "When opening, we can use `squeeze` to drop the extra `band` dimension."
   ]
  },
  {
   "cell_type": "code",
   "execution_count": null,
   "metadata": {
    "tags": []
   },
   "outputs": [],
   "source": [
    "ds_cwc = rxr.open_rasterio(cwc_fp).squeeze('band',drop=True)\n",
    "ds_cwc"
   ]
  },
  {
   "cell_type": "code",
   "execution_count": null,
   "metadata": {
    "tags": []
   },
   "outputs": [],
   "source": [
    "ds_cwc.hvplot.image(x='x',y='y', aspect='equal', cmap='viridis')"
   ]
  }
 ],
 "metadata": {
  "kernelspec": {
   "display_name": "Python 3 (ipykernel)",
   "language": "python",
   "name": "python3"
  },
  "language_info": {
   "codemirror_mode": {
    "name": "ipython",
    "version": 3
   },
   "file_extension": ".py",
   "mimetype": "text/x-python",
   "name": "python",
   "nbconvert_exporter": "python",
   "pygments_lexer": "ipython3",
   "version": "3.11.4"
  }
 },
 "nbformat": 4,
 "nbformat_minor": 4
}
