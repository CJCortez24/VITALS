{
 "cells": [
  {
   "cell_type": "markdown",
   "id": "7a8c6377-b771-4935-9c10-a1fac1cb40df",
   "metadata": {},
   "source": [
    "# Use Case: Agriculture\n",
    "\n",
    "Below is an example of merging EMIT CWC scenes and clipping an ECOSTRESS scene to that boundary. I thought for this use case it might be nice to show how to merge the EMIT scenes.\n",
    "\n",
    "Santa Barbara County has a shapefile [here](https://www.countyofsb.org/1858/Mapping-GIS) with various fields including their crop for 2023 - this might be too complicated to dive into, but could potentially be used to extract data about different crops."
   ]
  },
  {
   "cell_type": "code",
   "execution_count": null,
   "id": "5d2fb8dd-437b-44aa-9406-895b4f7ec0a8",
   "metadata": {
    "tags": []
   },
   "outputs": [],
   "source": [
    "import os\n",
    "import glob\n",
    "import math\n",
    "import earthaccess\n",
    "import numpy as np\n",
    "import pandas as pd\n",
    "import xarray as xr\n",
    "from osgeo import gdal\n",
    "import rasterio as rio\n",
    "import rioxarray as rxr\n",
    "from rioxarray.merge import merge_arrays\n",
    "from matplotlib import pyplot as plt\n",
    "import hvplot.xarray\n",
    "import hvplot.pandas\n",
    "import holoviews as hv\n",
    "import geoviews as gv\n",
    "import geopandas as gp\n",
    "import sys\n",
    "from modules.emit_tools import emit_xarray, ortho_xr"
   ]
  },
  {
   "cell_type": "markdown",
   "id": "d4ddab12-6aa4-4492-a1a2-71cf100a69fd",
   "metadata": {},
   "source": [
    "Open ROI bbox and get bounds, need to be in order: left, bottom, right, top."
   ]
  },
  {
   "cell_type": "code",
   "execution_count": null,
   "id": "2dcd42ef-865e-4cd7-9a03-239df3d2ca9a",
   "metadata": {
    "tags": []
   },
   "outputs": [],
   "source": [
    "# This polygon contains a bounding box around Dangermond and Sedgwick, including the regions between.\n",
    "bbox = gp.read_file(\"../data/roi_bbox.geojson\").unary_union.bounds\n",
    "bbox"
   ]
  },
  {
   "cell_type": "code",
   "execution_count": null,
   "id": "82e7dd60-fc01-4f78-83db-94c350e67b90",
   "metadata": {
    "tags": []
   },
   "outputs": [],
   "source": [
    "ewt_fp1=\"../../shared/2023-VITALS-Workshop-AGU/data/cropped/ewt/EMIT_L2A_RFL_001_20230401T203751_2309114_002_roi_bbox_cwc.tif\"\n",
    "ewt_fp2=\"../../shared/2023-VITALS-Workshop-AGU/data/cropped/ewt/EMIT_L2A_RFL_001_20230401T203803_2309114_003_roi_bbox_cwc.tif\"\n",
    "lst_fp = \"../../shared/2023-VITALS-Workshop-AGU/data/ECOv002_L2T_LSTE_26860_001_10SGD_20230401T203733_0710_01_LST.tif\""
   ]
  },
  {
   "cell_type": "code",
   "execution_count": null,
   "id": "7de0abb4-24da-47b3-b623-dabafaea2fb1",
   "metadata": {
    "tags": []
   },
   "outputs": [],
   "source": [
    "ewt_ds1 = rxr.open_rasterio(ewt_fp1).squeeze('band',drop=True)\n",
    "ewt_ds2 = rxr.open_rasterio(ewt_fp2).squeeze('band',drop=True)"
   ]
  },
  {
   "cell_type": "code",
   "execution_count": null,
   "id": "019b565d-42bc-4c3c-95d4-6b6736025934",
   "metadata": {
    "tags": []
   },
   "outputs": [],
   "source": [
    "merged = merge_arrays([ewt_ds1,ewt_ds2],bounds=bbox, nodata=np.nan)\n",
    "merged"
   ]
  },
  {
   "cell_type": "code",
   "execution_count": null,
   "id": "c30faad7-175e-4f4c-b72b-7ed30a059dd6",
   "metadata": {
    "tags": []
   },
   "outputs": [],
   "source": [
    "merged.hvplot.image(x='x',y='y',geo=True, cmap='viridis',tiles='ESRI',\n",
    "                    title=f\"{merged.long_name} ({merged.units})\",\n",
    "                 xlabel='Longitude',ylabel='Latitude', frame_width=500,\n",
    "                 frame_height=500, fontscale=1.5, alpha = 0.7)"
   ]
  },
  {
   "cell_type": "markdown",
   "id": "f1f92326-3775-4957-8690-b51c3510645d",
   "metadata": {},
   "source": [
    "Write output"
   ]
  },
  {
   "cell_type": "code",
   "execution_count": null,
   "id": "e238f907-d1f4-4ec9-a034-79dadf484f95",
   "metadata": {
    "tags": []
   },
   "outputs": [],
   "source": [
    "out_dir = \"../../shared/2023-VITALS-Workshop-AGU/data/cropped/dangermond/ewt/\"\n",
    "#out_dir = \"../../shared/2023-VITALS-Workshop-AGU/data/cropped/ewt/\"\n",
    "merged_outname=f\"{out_dir}{ewt_fp1.split('/')[-1].split('.')[0]}_merged.tif\"\n",
    "merged.rio.to_raster(raster_path=merged_outname, driver='COG')"
   ]
  },
  {
   "cell_type": "markdown",
   "id": "084a9117-0693-4510-a17e-decb6c123543",
   "metadata": {},
   "source": [
    "Open and reproject, regrid, and clip ECOSTRESS LST"
   ]
  },
  {
   "cell_type": "code",
   "execution_count": null,
   "id": "e214f3e3-d597-451b-aa2f-5c2c595f9bda",
   "metadata": {
    "tags": []
   },
   "outputs": [],
   "source": [
    "lst_ds = rxr.open_rasterio(lst_fp).squeeze('band',drop=True)"
   ]
  },
  {
   "cell_type": "markdown",
   "id": "c8f9528b-d88e-445d-b634-fb576d5b5f3f",
   "metadata": {
    "tags": []
   },
   "source": [
    "`reproject_match` will reproject the ECOSTRESS scene and regrid to the same as the EMIT CWC scene. We do not have to clip this because our ROI is a box."
   ]
  },
  {
   "cell_type": "code",
   "execution_count": null,
   "id": "eced6a04-3dec-41c9-8b19-381f1f397bdc",
   "metadata": {
    "tags": []
   },
   "outputs": [],
   "source": [
    "eco_lst_ds_regrid = lst_ds.rio.reproject_match(merged)"
   ]
  },
  {
   "cell_type": "code",
   "execution_count": null,
   "id": "dbefe279-f8fe-4419-83c8-d395c41a9191",
   "metadata": {
    "tags": []
   },
   "outputs": [],
   "source": [
    "eco_lst_ds_regrid.hvplot.image(x='x',y='y',geo=True, cmap='viridis',tiles='ESRI',\n",
    "                    title=\"Regridded 60m ECOSTRESS LST (K)\",\n",
    "                 xlabel='Longitude',ylabel='Latitude', frame_width=500,\n",
    "                 frame_height=500, fontscale=1.5, alpha = 0.7)"
   ]
  },
  {
   "cell_type": "code",
   "execution_count": null,
   "id": "41ad4902-89b4-42a5-a9c7-93d5d61c0727",
   "metadata": {},
   "outputs": [],
   "source": [
    "#Write Output\n"
   ]
  }
 ],
 "metadata": {
  "kernelspec": {
   "display_name": "Python 3 (ipykernel)",
   "language": "python",
   "name": "python3"
  },
  "language_info": {
   "codemirror_mode": {
    "name": "ipython",
    "version": 3
   },
   "file_extension": ".py",
   "mimetype": "text/x-python",
   "name": "python",
   "nbconvert_exporter": "python",
   "pygments_lexer": "ipython3",
   "version": "3.10.12"
  }
 },
 "nbformat": 4,
 "nbformat_minor": 5
}
