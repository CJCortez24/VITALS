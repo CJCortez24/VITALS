{
 "cells": [
  {
   "cell_type": "markdown",
   "metadata": {},
   "source": [
    "# 02 Working with EMIT L2A Reflectance and ECOSTRESS L2 LSTE ET Products\n",
    "\n",
    "---\n",
    "\n",
    "**Summary**  \n",
    "\n",
    "In the previous notebook, we found and downloaded concurrent EMIT L2A Reflectance and ECOSTRESS L2 Land Surface Temperature and Emissivity scenes over our region of interest. In this notebook, we will open and explore both datasets to better understand the structure, then we will conduct some of the necessary preprocessing to use the data together, including: applying quality data, reprojecting, placing data on a common grid, and cropping. \n",
    "\n",
    "**Background**\n",
    "\n",
    "#TODO - Add some text about ECOSTRESS and EMIT Synergies and general info about reflectance and lst\n",
    "\n",
    "**Requirements** \n",
    " - [NASA Earthdata Account](https://urs.earthdata.nasa.gov/home) \n",
    " - *No Python setup requirements if connected to the workshop cloud instance!*\n",
    " - Set up Python Environment - See **setup_instructions.md** in the `/setup/` folder\n",
    "\n",
    "**Learning Objectives**  \n",
    "- How to open and work with EMIT L2A Reflectance and ECOSTRESS L2T LSTE data\n",
    "- How to apply quality data to EMIT and ECOSTRESS scenes\n",
    "- How to reproject and regrid ECOSTRESS data\n",
    "- How to crop EMIT and ECOSTRESS data\n",
    "- How to automate this workflow\n",
    "\n",
    "**Tutorial Outline**  \n",
    "\n",
    "1. Setup  \n",
    "2. Opening and Exploring EMIT Data  \n",
    "    2.1 Applying Quality Masks to EMIT Data  \n",
    "    2.2 Cropping EMIT Data  \n",
    "    2.3 Writing Outputs  \n",
    "3. Opening and Exploring ECOSTRESS Data  \n",
    "    3.1 Applying Quality Masks to ECOSTRESS Data  \n",
    "    3.2 Reprojecting and Regridding ECOSTRESS Data  \n",
    "    3.3 Cropping ECOSTRESS Data  \n",
    "    3.4 Writing Outputs  \n",
    "4. Automation\n"
   ]
  },
  {
   "cell_type": "markdown",
   "metadata": {},
   "source": [
    "## 1 Setup \n",
    "\n",
    "---\n",
    "\n",
    "### 1.1 Import Python Libraries\n",
    "\n"
   ]
  },
  {
   "cell_type": "code",
   "execution_count": null,
   "metadata": {
    "tags": []
   },
   "outputs": [],
   "source": [
    "# Import Packages\n",
    "import os\n",
    "import glob\n",
    "import earthaccess\n",
    "import numpy as np\n",
    "import xarray as xr\n",
    "from osgeo import gdal\n",
    "import rasterio as rio\n",
    "import rioxarray as rxr\n",
    "import hvplot.xarray\n",
    "import hvplot.pandas\n",
    "import holoviews as hv\n",
    "import geoviews as gv\n",
    "import geopandas as gp\n",
    "import sys\n",
    "from modules.emit_tools import emit_xarray, ortho_xr"
   ]
  },
  {
   "cell_type": "markdown",
   "metadata": {},
   "source": [
    "### 1.2 Define Filepaths for one type of each file downloaded\n",
    "\n",
    "Define a filepath for an EMIT L2A Reflectance file, EMIT L2A Mask file, and an ECOSTRESS L2T LSTE and ECOSTRESS L2T Mask file."
   ]
  },
  {
   "cell_type": "code",
   "execution_count": null,
   "metadata": {
    "tags": []
   },
   "outputs": [],
   "source": [
    "emit_fp = \"../data/EMIT_L2A_RFL_001_20230405T190311_2309513_002.nc\"\n",
    "emit_qa_fp = \"../data/EMIT_L2A_MASK_001_20230405T190311_2309513_002.nc\"\n",
    "eco_fp = \"../data/ECOv002_L2T_LSTE_26921_001_10SGD_20230405T190258_0710_01_LST.tif\"\n",
    "eco_qa_fp = \"../data/ECOv002_L2T_LSTE_26921_001_10SGD_20230405T190258_0710_01_cloud.tif\""
   ]
  },
  {
   "cell_type": "markdown",
   "metadata": {},
   "source": [
    "Define some standards for our holoviz plots as a dictionary.\n",
    "\n",
    "#TODO - determine what size/figure properties we want to put in this dict (can be unpacked in the `hvplot.image(**fig_opts)`"
   ]
  },
  {
   "cell_type": "code",
   "execution_count": null,
   "metadata": {},
   "outputs": [],
   "source": [
    "\n",
    "fig_opts = {'frame_width':1080,'frame_height':720,'alpha':0.7,'tiles':'ESRI'}"
   ]
  },
  {
   "cell_type": "markdown",
   "metadata": {},
   "source": [
    "## Opening and Exploring EMIT Reflectance Data\n",
    "\n",
    "EMIT L2A Reflectance Data are distributed in a non-orthocorrected spatially raw NetCDF4 (.nc) format consisting of the data and its associated metadata. Inside the L2A Reflectance `.nc` file there are 3 groups. Groups can be thought of as containers to organize the data. \n",
    "\n",
    "1. The root group that can be considered the main dataset contains the reflectance data described by the downtrack, crosstrack, and bands dimensions.  \n",
    "2. The `sensor_band_parameters`  group containing the wavelength center and the full-width half maximum (FWHM) of each band.  \n",
    "3. The `location` group contains latitude and longitude values at the center of each pixel described by the crosstrack and downtrack dimensions, as well as a geometry lookup table (GLT) described by the ortho_x and ortho_y dimensions. The GLT is an orthorectified image (EPSG:4326) consisting of 2 layers containing downtrack and crosstrack indices. These index positions allow us to quickly project the raw data onto this geographic grid.\n",
    "\n",
    "To work with the EMIT data, we will use the `emit_tools` module. There are other ways to work with the data and a more thorough explanation of the `emit_tools` in the [EMIT-Data-Resources Repository](https://github.com/nasa/EMIT-Data-Resources).\n",
    "\n",
    "Open the example EMIT scene using the `emit_xarray` function. In this step we will use the `ortho=True` argument to orthorectify the scene using the included GLT."
   ]
  },
  {
   "cell_type": "code",
   "execution_count": null,
   "metadata": {
    "tags": []
   },
   "outputs": [],
   "source": [
    "emit_ds = emit_xarray(emit_fp, ortho=True)\n",
    "emit_ds"
   ]
  },
  {
   "cell_type": "markdown",
   "metadata": {},
   "source": [
    "We can plot the spectra of an individual pixel closest to a latitude and longitude we want using the `sel` function from `xarray`. Using the `good_wavelengths` flag from the `sensor_band_parameters` group, mask out bands where water absorption features were assigned a value of -0.01 reflectance. Typically data around 1320-1440 nm and 1770-1970 nm is noisy due to the moisture present in the atmosphere; therefore, these spectral regions offer little information about targets and can be excluded from calculations. "
   ]
  },
  {
   "cell_type": "code",
   "execution_count": null,
   "metadata": {
    "tags": []
   },
   "outputs": [],
   "source": [
    "emit_ds['reflectance'].data[:,:,emit_ds['good_wavelengths'].data==0] = np.nan"
   ]
  },
  {
   "cell_type": "markdown",
   "metadata": {},
   "source": [
    "Now select a point and plot a spectra."
   ]
  },
  {
   "cell_type": "code",
   "execution_count": null,
   "metadata": {
    "tags": []
   },
   "outputs": [],
   "source": [
    "point = emit_ds.sel(latitude=34.717,longitude=-120.042, method='nearest')\n",
    "point.hvplot.line(y='reflectance',x='wavelengths', color='black').opts(\n",
    "    title=f'Latitude = {point.latitude.values.round(3)}, Longitude = {point.longitude.values.round(3)}')"
   ]
  },
  {
   "cell_type": "markdown",
   "metadata": {},
   "source": [
    "We can also plot individual bands spatially by selecting a wavelength, then plotting."
   ]
  },
  {
   "cell_type": "code",
   "execution_count": null,
   "metadata": {
    "tags": []
   },
   "outputs": [],
   "source": [
    "emit_layer = emit_ds.sel(wavelengths=850,method='nearest')\n",
    "emit_layer.hvplot.image(geo=True,cmap='viridis').opts(title=f\"{emit_layer.wavelengths:.3f} {emit_layer.wavelengths.units}\")"
   ]
  },
  {
   "cell_type": "markdown",
   "metadata": {},
   "source": [
    "## 2.1 Quality Masking\n",
    "\n",
    "The EMIT L2A Mask file contains some bands that are direct masks (Cloud, Dilated, Currus, Water, Spacecraft), and some (AOD550 and H2O (g cm-2)) that contain information calculated during the L2A reflectance retrieval. These may be used as additional screening, depending on the application.  The Aggregate Flag is the mask used during EMIT L2B Mineralogy calculations, which we will also use here, but not all users might want this particular mask.\n",
    "\n",
    "> Note: It is more memory efficient to apply the mask before orthorectifying, so during the automation section we will do that."
   ]
  },
  {
   "cell_type": "code",
   "execution_count": null,
   "metadata": {
    "tags": []
   },
   "outputs": [],
   "source": [
    "emit_mask = emit_xarray(emit_qa_fp, ortho=True)\n",
    "emit_mask"
   ]
  },
  {
   "cell_type": "markdown",
   "metadata": {},
   "source": [
    "List the quality flags contained in the `mask_bands` dimension."
   ]
  },
  {
   "cell_type": "code",
   "execution_count": null,
   "metadata": {
    "tags": []
   },
   "outputs": [],
   "source": [
    "emit_mask.mask_bands.data.tolist()"
   ]
  },
  {
   "cell_type": "markdown",
   "metadata": {},
   "source": [
    "As mentioned, we will use the `Aggregate Flag`. Select that band, then plot it to visualize."
   ]
  },
  {
   "cell_type": "code",
   "execution_count": null,
   "metadata": {
    "tags": []
   },
   "outputs": [],
   "source": [
    "emit_aggregate_mask = emit_mask.sel(mask_bands='Aggregate Flag')"
   ]
  },
  {
   "cell_type": "code",
   "execution_count": null,
   "metadata": {
    "tags": []
   },
   "outputs": [],
   "source": [
    "emit_aggregate_mask.hvplot.image(geo=True, cmap='viridis')"
   ]
  },
  {
   "cell_type": "markdown",
   "metadata": {},
   "source": [
    "Apply the mask to our EMIT Data by assigning values where the `mask.data == 1` to `np.nan`"
   ]
  },
  {
   "cell_type": "code",
   "execution_count": null,
   "metadata": {
    "tags": []
   },
   "outputs": [],
   "source": [
    "emit_ds.reflectance.data[emit_aggregate_mask.mask.data == 1] = np.nan"
   ]
  },
  {
   "cell_type": "markdown",
   "metadata": {},
   "source": [
    "We can confirm our masking worked with a spatial plot."
   ]
  },
  {
   "cell_type": "code",
   "execution_count": null,
   "metadata": {
    "tags": []
   },
   "outputs": [],
   "source": [
    "emit_layer_filtered_plot = emit_ds.sel(wavelengths=850, method='nearest').hvplot.image(geo=True,cmap='viridis',**fig_opts)\n",
    "emit_layer_filtered_plot"
   ]
  },
  {
   "cell_type": "markdown",
   "metadata": {},
   "source": [
    "### 2.2 Cropping EMIT data to a Region of Interest\n",
    "\n",
    "To crop our dataset to our ROI we first need to open a shapefile of the region. Open the included `geojson` for Sedgwick Reserve and Plot it onto our EMIT 850nm reflectance spatial plot."
   ]
  },
  {
   "cell_type": "code",
   "execution_count": null,
   "metadata": {
    "tags": []
   },
   "outputs": [],
   "source": [
    "shape = gp.read_file(\"../data/sedgwick_boundary_epsg4326.geojson\")\n",
    "shape"
   ]
  },
  {
   "cell_type": "code",
   "execution_count": null,
   "metadata": {
    "tags": []
   },
   "outputs": [],
   "source": [
    "emit_layer_filtered_plot*shape.hvplot(geo=True,color='#d95f02',alpha=0.5)"
   ]
  },
  {
   "cell_type": "markdown",
   "metadata": {},
   "source": [
    "Now use the `clip` function from `rasterio` to crop the data to our ROI using our shape's `geometry` and `crs`. The `all_touched=True` argument will ensure all pixels touched by our polygon will be included."
   ]
  },
  {
   "cell_type": "code",
   "execution_count": null,
   "metadata": {
    "tags": []
   },
   "outputs": [],
   "source": [
    "emit_sedgwick = emit_ds.rio.clip(shape.geometry.values,shape.crs, all_touched=True)"
   ]
  },
  {
   "cell_type": "markdown",
   "metadata": {},
   "source": [
    "Plot the cropped data."
   ]
  },
  {
   "cell_type": "code",
   "execution_count": null,
   "metadata": {
    "tags": []
   },
   "outputs": [],
   "source": [
    "emit_sedgwick.sel(wavelengths=850,method='nearest').hvplot.image(geo=True, cmap='viridis', **fig_opts)"
   ]
  },
  {
   "cell_type": "markdown",
   "metadata": {},
   "source": [
    "### 2.3 Write an output\n",
    "\n",
    "Lastly for our EMIT dataset, we can write a smaller output that we can use in later notebooks, to calculate Canopy water content or other applications. We use the `granule_id` from the dataset to keep a similar naming convention."
   ]
  },
  {
   "cell_type": "code",
   "execution_count": null,
   "metadata": {
    "tags": []
   },
   "outputs": [],
   "source": [
    "# Write Clipped Output\n",
    "emit_sedgwick.to_netcdf(f'../data/{emit_sedgwick.granule_id}_sedgwick.nc')"
   ]
  },
  {
   "cell_type": "markdown",
   "metadata": {},
   "source": [
    "## 3.0 Working with ECOSTRESS L2T Land Surface Temperature and Emissivity\n",
    "\n",
    "For this example we're only taking a look at the Land Surface Temperature. \n",
    "\n",
    "Open the LST file using `open_rasterio` from the `rioxarray` library. Since the file consists of only 1 layer, we can `squeeze` it, removing the `band` dimension."
   ]
  },
  {
   "cell_type": "code",
   "execution_count": null,
   "metadata": {},
   "outputs": [],
   "source": [
    "eco_lst_ds = rxr.open_rasterio(eco_fp).squeeze('band', drop=True)\n",
    "eco_lst_ds"
   ]
  },
  {
   "cell_type": "markdown",
   "metadata": {},
   "source": [
    "#TODO - The ecostress plots need to be reprojected before plotting with `geoviews` - that fits better later in the workflow though."
   ]
  },
  {
   "cell_type": "code",
   "execution_count": null,
   "metadata": {},
   "outputs": [],
   "source": [
    "eco_lst_ds.hvplot.image(aspect='equal',cmap='inferno')"
   ]
  },
  {
   "cell_type": "code",
   "execution_count": null,
   "metadata": {},
   "outputs": [],
   "source": [
    "eco_cloud_ds = rxr.open_rasterio(eco_qa_fp).squeeze('band', drop=True)\n",
    "eco_cloud_ds\n"
   ]
  },
  {
   "cell_type": "code",
   "execution_count": null,
   "metadata": {},
   "outputs": [],
   "source": [
    "eco_cloud_ds.hvplot.image(aspect='equal',cmap='greys')"
   ]
  },
  {
   "cell_type": "markdown",
   "metadata": {},
   "source": [
    "#TODO -  Not sure this cloud masking is necessary, it looks like the LST product has already been masked?"
   ]
  },
  {
   "cell_type": "code",
   "execution_count": null,
   "metadata": {},
   "outputs": [],
   "source": [
    "eco_lst_ds.data[eco_cloud_ds.data == 1] = np.nan"
   ]
  },
  {
   "cell_type": "code",
   "execution_count": null,
   "metadata": {},
   "outputs": [],
   "source": [
    "eco_lst_ds_regrid = eco_lst_ds.rio.reproject_match(emit_sedgwick)"
   ]
  },
  {
   "cell_type": "markdown",
   "metadata": {},
   "source": [
    "Regridding to the cropped EMIT data automatically restricts us to its spatial ref/bounding box."
   ]
  },
  {
   "cell_type": "code",
   "execution_count": null,
   "metadata": {},
   "outputs": [],
   "source": [
    "eco_lst_ds_regrid.hvplot.image(geo=True,cmap='inferno',**fig_opts)"
   ]
  },
  {
   "cell_type": "code",
   "execution_count": null,
   "metadata": {},
   "outputs": [],
   "source": [
    "eco_sedgwick = eco_lst_ds_regrid.rio.clip(shape.geometry.values,shape.crs, all_touched=True)"
   ]
  },
  {
   "cell_type": "code",
   "execution_count": null,
   "metadata": {},
   "outputs": [],
   "source": [
    "eco_sedgwick.hvplot.image(geo=True,cmap='inferno',**fig_opts)"
   ]
  },
  {
   "cell_type": "markdown",
   "metadata": {},
   "source": [
    "The interactive plot doesn't work with geoviews, not sure if its something we are interested in including, but I thought it was a cool idea."
   ]
  },
  {
   "cell_type": "code",
   "execution_count": null,
   "metadata": {},
   "outputs": [],
   "source": [
    "# Define Ecostress Map - ESRI tiles will not work\n",
    "eco_map = eco_sedgwick.hvplot.image(aspect='equal',cmap='inferno')\n",
    "\n",
    "# Stream of X and Y positional data\n",
    "posxy = hv.streams.PointerXY(source=eco_map, x=-120.042, y=34.717) \n",
    "clickxy = hv.streams.Tap(source=eco_map, x=-120.042, y=34.717) \n",
    "\n",
    "# Function to build a new spectral plot based on mouse hover positional information retrieved from the RGB image using our full reflectance dataset \n",
    "def point_spectra(x,y):\n",
    "    return emit_sedgwick.sel(longitude=x,latitude=y,method='nearest').hvplot.line(y='reflectance',x='wavelengths',\n",
    "                                                                           color='#1b9e77', frame_width=400)\n",
    "# Function to build spectral plot of clicked location to show on hover stream plot\n",
    "def click_spectra(x,y):\n",
    "    clicked = emit_sedgwick.sel(longitude=x,latitude=y,method='nearest')\n",
    "    return clicked.hvplot.line(y='reflectance',x='wavelengths', color='black', frame_width=400).opts(\n",
    "        title = f'Latitude = {clicked.latitude.values.round(3)}, Longitude = {clicked.longitude.values.round(3)}')\n",
    "# Define the Dynamic Maps\n",
    "point_dmap = hv.DynamicMap(point_spectra, streams=[posxy])\n",
    "click_dmap = hv.DynamicMap(click_spectra, streams=[clickxy])\n",
    "\n",
    "# Plot the Map and Dynamic Map side by side\n",
    "(eco_map + click_dmap*point_dmap)"
   ]
  },
  {
   "cell_type": "code",
   "execution_count": null,
   "metadata": {},
   "outputs": [],
   "source": [
    "eco_outname = f\"../data/{eco_fp.split('/')[-1].split('.')[0]}_sedgwick.tif\"\n",
    "eco_sedgwick.rio.to_raster(raster_path=eco_outname, driver='COG')"
   ]
  },
  {
   "cell_type": "markdown",
   "metadata": {},
   "source": [
    "# 7. Automation\n",
    "\n",
    "We can simplify and automate the above for all of the files we downloaded."
   ]
  },
  {
   "cell_type": "code",
   "execution_count": null,
   "metadata": {},
   "outputs": [],
   "source": [
    "# List files\n",
    "eco_lst_files = glob.glob(\"../data/*LST.tif\")\n",
    "emit_rfl_files = glob.glob(\"../data/EMIT_L2A_RFL_*.nc\")"
   ]
  },
  {
   "cell_type": "code",
   "execution_count": null,
   "metadata": {},
   "outputs": [],
   "source": [
    "eco_lst_files"
   ]
  },
  {
   "cell_type": "code",
   "execution_count": null,
   "metadata": {},
   "outputs": [],
   "source": [
    "# Process EMIT Scenes\n",
    "for rfl_fp in emit_rfl_files:\n",
    "    # Get Granule ID from filename\n",
    "    granule_id = rfl_fp.split(\"\\\\\")[-1].split(\".\")[0]\n",
    "    # Set Output Filepath\n",
    "    out_fp = f\"../data/outputs/{granule_id}_sedgwick.nc\"\n",
    "\n",
    "    # Check if desired output exists\n",
    "    if not os.path.isfile(out_fp):\n",
    "        # Define Path for the correct Mask File\n",
    "        mask_fp = rfl_fp.replace(\"RFL\",\"MASK\")\n",
    "        \n",
    "        # Read in data\n",
    "        emit_ds = emit_xarray(rfl_fp)\n",
    "        # Select Aggregate Mask and Retrieve Array\n",
    "        emit_mask = emit_xarray(mask_fp).sel(mask_bands=\"Aggregate Flag\").mask.data\n",
    "        # Apply Mask\n",
    "        emit_ds.reflectance.data[emit_mask==1] = np.nan\n",
    "        # Orthorectify Scene\n",
    "        emit_ds = ortho_xr(emit_ds)\n",
    "        \n",
    "        # Read in Shapefile and Clip\n",
    "        shape = gp.read_file(\"../data/sedgwick_boundary_epsg4326.geojson\")\n",
    "        emit_sedgwick = emit_ds.rio.clip(shape.geometry.values,shape.crs, all_touched=True)\n",
    "        \n",
    "        # Write Output\n",
    "        emit_sedgwick.to_netcdf(out_fp)\n",
    "    else: \n",
    "        print(\"Output File Already Exists\")"
   ]
  },
  {
   "cell_type": "code",
   "execution_count": null,
   "metadata": {},
   "outputs": [],
   "source": [
    "# # Check Files\n",
    "# ds = xr.open_dataset(\"../data/outputs/EMIT_L2A_RFL_001_20230405T190311_2309513_002_sedgwick.nc\")\n",
    "# ds.reflectance.sel(wavelengths=850,method='nearest').hvplot.image(geo=True, cmap='viridis')"
   ]
  },
  {
   "cell_type": "markdown",
   "metadata": {},
   "source": [
    "# TO DO - Check standard gridding for EMIT, way to open concurrent granule"
   ]
  },
  {
   "cell_type": "code",
   "execution_count": null,
   "metadata": {},
   "outputs": [],
   "source": [
    "# Process ECOSTRESS Scenes\n",
    "\n",
    "for lst_fp in eco_lst_files:\n",
    "    # Get Granule ID from filename\n",
    "    granule_id = lst_fp.split(\"\\\\\")[-1].split(\".\")[0]\n",
    "    # Set Output Filepath\n",
    "    out_fp = f\"../data/outputs/{granule_id}_sedgwick.nc\"\n",
    "\n",
    "# Check if desired output exists\n",
    "    if not os.path.isfile(out_fp):\n",
    "        # Define Path for the correct Mask File\n",
    "        mask_fp = lst_fp.replace(\"LST\",\"cloud\")\n",
    "        \n",
    "        # Read in data\n",
    "        eco_lst = rxr.open_rasterio(lst_fp).squeeze('band', drop=True)\n",
    "        # Select Aggregate Mask and Retrieve Array\n",
    "        eco_mask = rxr.open_rasterio(lst_fp).squeeze('band', drop=True).data\n",
    "        # Apply Mask\n",
    "        eco_lst.data[eco_mask==1] = np.nan\n",
    "        # Reproject and Regrid\n",
    "        eco_lst_ds_regrid = eco_lst_ds.rio.reproject_match(emit_sedgwick)       \n",
    "        # Read in Shapefile and Clip\n",
    "        shape = gp.read_file(\"../data/sedgwick_boundary_epsg4326.geojson\")\n",
    "        emit_sedgwick = emit_ds.rio.clip(shape.geometry.values,shape.crs, all_touched=True)\n",
    "        \n",
    "        # Write Output\n",
    "        emit_sedgwick.to_netcdf(out_fp)\n",
    "    else: \n",
    "        print(\"Output File Already Exists\")\n"
   ]
  }
 ],
 "metadata": {
  "kernelspec": {
   "display_name": "Python 3 (ipykernel)",
   "language": "python",
   "name": "python3"
  },
  "language_info": {
   "codemirror_mode": {
    "name": "ipython",
    "version": 3
   },
   "file_extension": ".py",
   "mimetype": "text/x-python",
   "name": "python",
   "nbconvert_exporter": "python",
   "pygments_lexer": "ipython3",
   "version": "3.10.13"
  }
 },
 "nbformat": 4,
 "nbformat_minor": 4
}
